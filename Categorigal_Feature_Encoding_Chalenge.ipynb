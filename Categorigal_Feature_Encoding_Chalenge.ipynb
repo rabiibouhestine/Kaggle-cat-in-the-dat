{
 "cells": [
  {
   "cell_type": "markdown",
   "metadata": {},
   "source": [
    "# 1.Feature Engineering"
   ]
  },
  {
   "cell_type": "code",
   "execution_count": 1,
   "metadata": {},
   "outputs": [],
   "source": [
    "# Importing Libraries\n",
    "import pandas as pd\n",
    "import numpy as np\n",
    "\n",
    "import matplotlib.pyplot as plt\n",
    "import seaborn as sns\n",
    "\n",
    "from sklearn.preprocessing import LabelEncoder, StandardScaler\n",
    "from sklearn.pipeline import Pipeline\n",
    "\n",
    "from sklearn.model_selection import train_test_split, GridSearchCV, cross_val_score, KFold\n",
    "from sklearn.linear_model import LogisticRegression\n",
    "from sklearn.ensemble import RandomForestClassifier, GradientBoostingClassifier\n",
    " \n",
    "from sklearn.metrics import roc_auc_score\n",
    "\n",
    "from category_encoders import TargetEncoder\n",
    "\n",
    "import string\n",
    "import warnings\n",
    "warnings.filterwarnings(\"ignore\")"
   ]
  },
  {
   "cell_type": "code",
   "execution_count": 2,
   "metadata": {},
   "outputs": [],
   "source": [
    "# Read the data\n",
    "X = pd.read_csv('./train.csv', index_col='id')\n",
    "X_test = pd.read_csv('./test.csv', index_col='id')"
   ]
  },
  {
   "cell_type": "code",
   "execution_count": 3,
   "metadata": {
    "scrolled": true
   },
   "outputs": [
    {
     "name": "stdout",
     "output_type": "stream",
     "text": [
      "X has  0 empty columns\n",
      "X_test has  0 empty columns\n"
     ]
    }
   ],
   "source": [
    "# Checking if there are any columns with missing values\n",
    "X_cols_with_missing = [col for col in X.columns if X[col].isnull().any()]\n",
    "X_test_cols_with_missing = [col for col in X_test.columns if X_test[col].isnull().any()]\n",
    "\n",
    "print(\"X has \",len(X_cols_with_missing), \"empty columns\")\n",
    "print(\"X_test has \",len(X_test_cols_with_missing), \"empty columns\")"
   ]
  },
  {
   "cell_type": "code",
   "execution_count": 4,
   "metadata": {},
   "outputs": [
    {
     "name": "stdout",
     "output_type": "stream",
     "text": [
      "nom_8 4\n",
      "nom_9 87\n"
     ]
    }
   ],
   "source": [
    "# Checking features categories coherence between X and X_test\n",
    "for var in X_test.columns:\n",
    "    if len(set(X_test[var].values) - set(X[var].values)) > 0:\n",
    "        print(var, len(set(X_test[var].values) - set(X[var].values)))"
   ]
  },
  {
   "cell_type": "markdown",
   "metadata": {},
   "source": [
    "**=>** The features **nom_8** and **nom_9** has values in **X_test** that are not in **X**!"
   ]
  },
  {
   "cell_type": "code",
   "execution_count": 5,
   "metadata": {},
   "outputs": [
    {
     "name": "stdout",
     "output_type": "stream",
     "text": [
      "nom_7 1\n",
      "nom_8 5\n",
      "nom_9 229\n"
     ]
    }
   ],
   "source": [
    "for var in X_test.columns:\n",
    "    if len(set(X[var].values) - set(X_test[var].values)) > 0:\n",
    "        print(var, len(set(X[var].values) - set(X_test[var].values)))"
   ]
  },
  {
   "cell_type": "markdown",
   "metadata": {},
   "source": [
    "**=>** The features **nom_7**, **nom_8** and **nom_9** has values in **X** that are not in **X_test**!"
   ]
  },
  {
   "cell_type": "code",
   "execution_count": 6,
   "metadata": {},
   "outputs": [],
   "source": [
    "# Assign the variable count to y\n",
    "y = X['target']\n",
    "# Remove the variables we do not want to be in X\n",
    "X.drop(['target'], axis=1, inplace=True)"
   ]
  },
  {
   "cell_type": "markdown",
   "metadata": {},
   "source": [
    "##  OneHotEncode ALL"
   ]
  },
  {
   "cell_type": "code",
   "execution_count": 9,
   "metadata": {},
   "outputs": [],
   "source": [
    "columns_to_onehot_encode = ['bin_0', 'bin_1', 'bin_2', 'bin_3', 'bin_4',\n",
    "                            'nom_5', 'nom_6', 'nom_7', 'nom_8', 'nom_9', \n",
    "                            'ord_0', 'ord_1', 'ord_2', 'ord_3', 'ord_4', 'ord_5', \n",
    "                            'day', 'month']\n",
    "\n",
    "\n",
    "X_OneHot_Encoded = pd.get_dummies(X,\n",
    "                                  columns=columns_to_onehot_encode,\n",
    "                                  prefix=columns_to_onehot_encode, \n",
    "                                  drop_first=True)\n",
    "\n",
    "X_test_OneHot_Encoded = pd.get_dummies(X_test,\n",
    "                                       columns=columns_to_onehot_encode,\n",
    "                                       prefix=columns_to_onehot_encode, \n",
    "                                       drop_first=True)\n"
   ]
  },
  {
   "cell_type": "code",
   "execution_count": 11,
   "metadata": {},
   "outputs": [
    {
     "name": "stdout",
     "output_type": "stream",
     "text": [
      "(300000, 16423)\n",
      "(200000, 16279)\n"
     ]
    }
   ],
   "source": [
    "print(X_OneHot_Encoded.shape)\n",
    "print(X_test_OneHot_Encoded.shape)"
   ]
  },
  {
   "cell_type": "code",
   "execution_count": 17,
   "metadata": {},
   "outputs": [
    {
     "data": {
      "text/plain": [
       "16188"
      ]
     },
     "execution_count": 17,
     "metadata": {},
     "output_type": "execute_result"
    }
   ],
   "source": [
    "common_columns = set(X_OneHot_Encoded.columns).intersection(set(X_test_OneHot_Encoded.columns))\n",
    "\n",
    "len(common_columns)"
   ]
  },
  {
   "cell_type": "code",
   "execution_count": 18,
   "metadata": {},
   "outputs": [],
   "source": [
    "X_OneHot_Encoded = X_OneHot_Encoded[common_columns]\n",
    "X_test_OneHot_Encoded = X_test_OneHot_Encoded[common_columns]"
   ]
  },
  {
   "cell_type": "code",
   "execution_count": 19,
   "metadata": {},
   "outputs": [
    {
     "name": "stdout",
     "output_type": "stream",
     "text": [
      "(300000, 16188)\n",
      "(200000, 16188)\n"
     ]
    }
   ],
   "source": [
    "print(X_OneHot_Encoded.shape)\n",
    "print(X_test_OneHot_Encoded.shape)"
   ]
  },
  {
   "cell_type": "markdown",
   "metadata": {},
   "source": [
    "## 1.1 Binary features"
   ]
  },
  {
   "cell_type": "code",
   "execution_count": 58,
   "metadata": {},
   "outputs": [
    {
     "data": {
      "text/html": [
       "<div>\n",
       "<style scoped>\n",
       "    .dataframe tbody tr th:only-of-type {\n",
       "        vertical-align: middle;\n",
       "    }\n",
       "\n",
       "    .dataframe tbody tr th {\n",
       "        vertical-align: top;\n",
       "    }\n",
       "\n",
       "    .dataframe thead th {\n",
       "        text-align: right;\n",
       "    }\n",
       "</style>\n",
       "<table border=\"1\" class=\"dataframe\">\n",
       "  <thead>\n",
       "    <tr style=\"text-align: right;\">\n",
       "      <th></th>\n",
       "      <th>bin_0</th>\n",
       "      <th>bin_1</th>\n",
       "      <th>bin_2</th>\n",
       "      <th>bin_3</th>\n",
       "      <th>bin_4</th>\n",
       "    </tr>\n",
       "    <tr>\n",
       "      <th>id</th>\n",
       "      <th></th>\n",
       "      <th></th>\n",
       "      <th></th>\n",
       "      <th></th>\n",
       "      <th></th>\n",
       "    </tr>\n",
       "  </thead>\n",
       "  <tbody>\n",
       "    <tr>\n",
       "      <td>0</td>\n",
       "      <td>0</td>\n",
       "      <td>0</td>\n",
       "      <td>0</td>\n",
       "      <td>T</td>\n",
       "      <td>Y</td>\n",
       "    </tr>\n",
       "    <tr>\n",
       "      <td>1</td>\n",
       "      <td>0</td>\n",
       "      <td>1</td>\n",
       "      <td>0</td>\n",
       "      <td>T</td>\n",
       "      <td>Y</td>\n",
       "    </tr>\n",
       "    <tr>\n",
       "      <td>2</td>\n",
       "      <td>0</td>\n",
       "      <td>0</td>\n",
       "      <td>0</td>\n",
       "      <td>F</td>\n",
       "      <td>Y</td>\n",
       "    </tr>\n",
       "    <tr>\n",
       "      <td>3</td>\n",
       "      <td>0</td>\n",
       "      <td>1</td>\n",
       "      <td>0</td>\n",
       "      <td>F</td>\n",
       "      <td>Y</td>\n",
       "    </tr>\n",
       "    <tr>\n",
       "      <td>4</td>\n",
       "      <td>0</td>\n",
       "      <td>0</td>\n",
       "      <td>0</td>\n",
       "      <td>F</td>\n",
       "      <td>N</td>\n",
       "    </tr>\n",
       "  </tbody>\n",
       "</table>\n",
       "</div>"
      ],
      "text/plain": [
       "    bin_0  bin_1  bin_2 bin_3 bin_4\n",
       "id                                 \n",
       "0       0      0      0     T     Y\n",
       "1       0      1      0     T     Y\n",
       "2       0      0      0     F     Y\n",
       "3       0      1      0     F     Y\n",
       "4       0      0      0     F     N"
      ]
     },
     "execution_count": 58,
     "metadata": {},
     "output_type": "execute_result"
    }
   ],
   "source": [
    "# Binary features\n",
    "bin_features = pd.Series(X.columns).str.startswith('bin')\n",
    "\n",
    "# First five observations of the binary features\n",
    "X[X.columns[bin_features]].head()"
   ]
  },
  {
   "cell_type": "markdown",
   "metadata": {},
   "source": [
    "As we can see here, two features (bin_3 and bin_4) should be mapped to 1 and 0."
   ]
  },
  {
   "cell_type": "code",
   "execution_count": 59,
   "metadata": {},
   "outputs": [],
   "source": [
    "# dictionary to map the feature\n",
    "bin_dict = {'T':1, 'F':0, 'Y':1, 'N':0}\n",
    "\n",
    "# Maping the category values in our dict\n",
    "X['bin_3'] = X['bin_3'].map(bin_dict)\n",
    "X['bin_4'] = X['bin_4'].map(bin_dict)\n",
    "X_test['bin_3'] = X_test['bin_3'].map(bin_dict)\n",
    "X_test['bin_4'] = X_test['bin_4'].map(bin_dict)"
   ]
  },
  {
   "cell_type": "code",
   "execution_count": 60,
   "metadata": {},
   "outputs": [
    {
     "data": {
      "text/html": [
       "<div>\n",
       "<style scoped>\n",
       "    .dataframe tbody tr th:only-of-type {\n",
       "        vertical-align: middle;\n",
       "    }\n",
       "\n",
       "    .dataframe tbody tr th {\n",
       "        vertical-align: top;\n",
       "    }\n",
       "\n",
       "    .dataframe thead th {\n",
       "        text-align: right;\n",
       "    }\n",
       "</style>\n",
       "<table border=\"1\" class=\"dataframe\">\n",
       "  <thead>\n",
       "    <tr style=\"text-align: right;\">\n",
       "      <th></th>\n",
       "      <th>bin_0</th>\n",
       "      <th>bin_1</th>\n",
       "      <th>bin_2</th>\n",
       "      <th>bin_3</th>\n",
       "      <th>bin_4</th>\n",
       "    </tr>\n",
       "    <tr>\n",
       "      <th>id</th>\n",
       "      <th></th>\n",
       "      <th></th>\n",
       "      <th></th>\n",
       "      <th></th>\n",
       "      <th></th>\n",
       "    </tr>\n",
       "  </thead>\n",
       "  <tbody>\n",
       "    <tr>\n",
       "      <td>0</td>\n",
       "      <td>0</td>\n",
       "      <td>0</td>\n",
       "      <td>0</td>\n",
       "      <td>1</td>\n",
       "      <td>1</td>\n",
       "    </tr>\n",
       "    <tr>\n",
       "      <td>1</td>\n",
       "      <td>0</td>\n",
       "      <td>1</td>\n",
       "      <td>0</td>\n",
       "      <td>1</td>\n",
       "      <td>1</td>\n",
       "    </tr>\n",
       "    <tr>\n",
       "      <td>2</td>\n",
       "      <td>0</td>\n",
       "      <td>0</td>\n",
       "      <td>0</td>\n",
       "      <td>0</td>\n",
       "      <td>1</td>\n",
       "    </tr>\n",
       "    <tr>\n",
       "      <td>3</td>\n",
       "      <td>0</td>\n",
       "      <td>1</td>\n",
       "      <td>0</td>\n",
       "      <td>0</td>\n",
       "      <td>1</td>\n",
       "    </tr>\n",
       "    <tr>\n",
       "      <td>4</td>\n",
       "      <td>0</td>\n",
       "      <td>0</td>\n",
       "      <td>0</td>\n",
       "      <td>0</td>\n",
       "      <td>0</td>\n",
       "    </tr>\n",
       "  </tbody>\n",
       "</table>\n",
       "</div>"
      ],
      "text/plain": [
       "    bin_0  bin_1  bin_2  bin_3  bin_4\n",
       "id                                   \n",
       "0       0      0      0      1      1\n",
       "1       0      1      0      1      1\n",
       "2       0      0      0      0      1\n",
       "3       0      1      0      0      1\n",
       "4       0      0      0      0      0"
      ]
     },
     "execution_count": 60,
     "metadata": {},
     "output_type": "execute_result"
    }
   ],
   "source": [
    "# First five observations of the binary features\n",
    "X[X.columns[bin_features]].head()"
   ]
  },
  {
   "cell_type": "markdown",
   "metadata": {},
   "source": [
    "## 1.2 Nominal features"
   ]
  },
  {
   "cell_type": "code",
   "execution_count": 61,
   "metadata": {},
   "outputs": [
    {
     "data": {
      "text/html": [
       "<div>\n",
       "<style scoped>\n",
       "    .dataframe tbody tr th:only-of-type {\n",
       "        vertical-align: middle;\n",
       "    }\n",
       "\n",
       "    .dataframe tbody tr th {\n",
       "        vertical-align: top;\n",
       "    }\n",
       "\n",
       "    .dataframe thead th {\n",
       "        text-align: right;\n",
       "    }\n",
       "</style>\n",
       "<table border=\"1\" class=\"dataframe\">\n",
       "  <thead>\n",
       "    <tr style=\"text-align: right;\">\n",
       "      <th></th>\n",
       "      <th>nom_0</th>\n",
       "      <th>nom_1</th>\n",
       "      <th>nom_2</th>\n",
       "      <th>nom_3</th>\n",
       "      <th>nom_4</th>\n",
       "      <th>nom_5</th>\n",
       "      <th>nom_6</th>\n",
       "      <th>nom_7</th>\n",
       "      <th>nom_8</th>\n",
       "      <th>nom_9</th>\n",
       "    </tr>\n",
       "    <tr>\n",
       "      <th>id</th>\n",
       "      <th></th>\n",
       "      <th></th>\n",
       "      <th></th>\n",
       "      <th></th>\n",
       "      <th></th>\n",
       "      <th></th>\n",
       "      <th></th>\n",
       "      <th></th>\n",
       "      <th></th>\n",
       "      <th></th>\n",
       "    </tr>\n",
       "  </thead>\n",
       "  <tbody>\n",
       "    <tr>\n",
       "      <td>0</td>\n",
       "      <td>Green</td>\n",
       "      <td>Triangle</td>\n",
       "      <td>Snake</td>\n",
       "      <td>Finland</td>\n",
       "      <td>Bassoon</td>\n",
       "      <td>50f116bcf</td>\n",
       "      <td>3ac1b8814</td>\n",
       "      <td>68f6ad3e9</td>\n",
       "      <td>c389000ab</td>\n",
       "      <td>2f4cb3d51</td>\n",
       "    </tr>\n",
       "    <tr>\n",
       "      <td>1</td>\n",
       "      <td>Green</td>\n",
       "      <td>Trapezoid</td>\n",
       "      <td>Hamster</td>\n",
       "      <td>Russia</td>\n",
       "      <td>Piano</td>\n",
       "      <td>b3b4d25d0</td>\n",
       "      <td>fbcb50fc1</td>\n",
       "      <td>3b6dd5612</td>\n",
       "      <td>4cd920251</td>\n",
       "      <td>f83c56c21</td>\n",
       "    </tr>\n",
       "    <tr>\n",
       "      <td>2</td>\n",
       "      <td>Blue</td>\n",
       "      <td>Trapezoid</td>\n",
       "      <td>Lion</td>\n",
       "      <td>Russia</td>\n",
       "      <td>Theremin</td>\n",
       "      <td>3263bdce5</td>\n",
       "      <td>0922e3cb8</td>\n",
       "      <td>a6a36f527</td>\n",
       "      <td>de9c9f684</td>\n",
       "      <td>ae6800dd0</td>\n",
       "    </tr>\n",
       "    <tr>\n",
       "      <td>3</td>\n",
       "      <td>Red</td>\n",
       "      <td>Trapezoid</td>\n",
       "      <td>Snake</td>\n",
       "      <td>Canada</td>\n",
       "      <td>Oboe</td>\n",
       "      <td>f12246592</td>\n",
       "      <td>50d7ad46a</td>\n",
       "      <td>ec69236eb</td>\n",
       "      <td>4ade6ab69</td>\n",
       "      <td>8270f0d71</td>\n",
       "    </tr>\n",
       "    <tr>\n",
       "      <td>4</td>\n",
       "      <td>Red</td>\n",
       "      <td>Trapezoid</td>\n",
       "      <td>Lion</td>\n",
       "      <td>Canada</td>\n",
       "      <td>Oboe</td>\n",
       "      <td>5b0f5acd5</td>\n",
       "      <td>1fe17a1fd</td>\n",
       "      <td>04ddac2be</td>\n",
       "      <td>cb43ab175</td>\n",
       "      <td>b164b72a7</td>\n",
       "    </tr>\n",
       "  </tbody>\n",
       "</table>\n",
       "</div>"
      ],
      "text/plain": [
       "    nom_0      nom_1    nom_2    nom_3     nom_4      nom_5      nom_6  \\\n",
       "id                                                                       \n",
       "0   Green   Triangle    Snake  Finland   Bassoon  50f116bcf  3ac1b8814   \n",
       "1   Green  Trapezoid  Hamster   Russia     Piano  b3b4d25d0  fbcb50fc1   \n",
       "2    Blue  Trapezoid     Lion   Russia  Theremin  3263bdce5  0922e3cb8   \n",
       "3     Red  Trapezoid    Snake   Canada      Oboe  f12246592  50d7ad46a   \n",
       "4     Red  Trapezoid     Lion   Canada      Oboe  5b0f5acd5  1fe17a1fd   \n",
       "\n",
       "        nom_7      nom_8      nom_9  \n",
       "id                                   \n",
       "0   68f6ad3e9  c389000ab  2f4cb3d51  \n",
       "1   3b6dd5612  4cd920251  f83c56c21  \n",
       "2   a6a36f527  de9c9f684  ae6800dd0  \n",
       "3   ec69236eb  4ade6ab69  8270f0d71  \n",
       "4   04ddac2be  cb43ab175  b164b72a7  "
      ]
     },
     "execution_count": 61,
     "metadata": {},
     "output_type": "execute_result"
    }
   ],
   "source": [
    "# Nominal features\n",
    "nom_features = pd.Series(X.columns).str.startswith('nom')\n",
    "\n",
    "# First five observations of the nominal features\n",
    "X[X.columns[nom_features]].head()"
   ]
  },
  {
   "cell_type": "code",
   "execution_count": 62,
   "metadata": {},
   "outputs": [
    {
     "data": {
      "text/plain": [
       "nom_0        3\n",
       "nom_1        6\n",
       "nom_2        6\n",
       "nom_3        6\n",
       "nom_4        4\n",
       "nom_5      222\n",
       "nom_6      522\n",
       "nom_7     1220\n",
       "nom_8     2215\n",
       "nom_9    11981\n",
       "dtype: int64"
      ]
     },
     "execution_count": 62,
     "metadata": {},
     "output_type": "execute_result"
    }
   ],
   "source": [
    "X[X.columns[nom_features]].nunique()"
   ]
  },
  {
   "cell_type": "markdown",
   "metadata": {},
   "source": [
    "We can split these features into 2 groups:\n",
    "\n",
    "* nom_0..nom_4: Low cardinality features.\n",
    "\n",
    "* nom_5..nom_9: High cardinality features. "
   ]
  },
  {
   "cell_type": "markdown",
   "metadata": {},
   "source": [
    "### 1.2.1 Low cardinality nominal features"
   ]
  },
  {
   "cell_type": "code",
   "execution_count": 63,
   "metadata": {},
   "outputs": [],
   "source": [
    "# Add a column containing the number of sides in each shape of the values in nom_01\n",
    "X.nom_1.unique()\n",
    "\n",
    "# dictionary to map the feature ord_1\n",
    "nom_1_dict = {'Circle':1, 'Triangle':3, 'Square':4, 'Trapezoid':4, 'Polygon':5, 'Star':10}\n",
    "\n",
    "# Maping the category values in our dict\n",
    "X['nom_1_sides'] = X['nom_1'].map(nom_1_dict)\n",
    "X_test['nom_1_sides'] = X_test['nom_1'].map(nom_1_dict)"
   ]
  },
  {
   "cell_type": "code",
   "execution_count": 64,
   "metadata": {},
   "outputs": [],
   "source": [
    "# One Hot Encoding low cardinality features\n",
    "X = pd.get_dummies(X,\n",
    "                   columns=['nom_0', 'nom_1', 'nom_2', 'nom_3', 'nom_4'],\n",
    "                   prefix=['nom_0', 'nom_1', 'nom_2', 'nom_3', 'nom_4'], \n",
    "                   drop_first=True)\n",
    "\n",
    "X_test = pd.get_dummies(X_test,\n",
    "                        columns=['nom_0', 'nom_1', 'nom_2', 'nom_3', 'nom_4'],\n",
    "                        prefix=['nom_0', 'nom_1', 'nom_2', 'nom_3', 'nom_4'], \n",
    "                        drop_first=True)"
   ]
  },
  {
   "cell_type": "markdown",
   "metadata": {},
   "source": [
    "### 1.2.2 High cardinality nominal features"
   ]
  },
  {
   "cell_type": "markdown",
   "metadata": {},
   "source": [
    "target encoding"
   ]
  },
  {
   "cell_type": "code",
   "execution_count": 65,
   "metadata": {},
   "outputs": [
    {
     "data": {
      "text/html": [
       "<div>\n",
       "<style scoped>\n",
       "    .dataframe tbody tr th:only-of-type {\n",
       "        vertical-align: middle;\n",
       "    }\n",
       "\n",
       "    .dataframe tbody tr th {\n",
       "        vertical-align: top;\n",
       "    }\n",
       "\n",
       "    .dataframe thead th {\n",
       "        text-align: right;\n",
       "    }\n",
       "</style>\n",
       "<table border=\"1\" class=\"dataframe\">\n",
       "  <thead>\n",
       "    <tr style=\"text-align: right;\">\n",
       "      <th></th>\n",
       "      <th>bin_0</th>\n",
       "      <th>bin_1</th>\n",
       "      <th>bin_2</th>\n",
       "      <th>bin_3</th>\n",
       "      <th>bin_4</th>\n",
       "      <th>nom_5</th>\n",
       "      <th>nom_6</th>\n",
       "      <th>nom_7</th>\n",
       "      <th>nom_8</th>\n",
       "      <th>nom_9</th>\n",
       "      <th>...</th>\n",
       "      <th>nom_2_Lion</th>\n",
       "      <th>nom_2_Snake</th>\n",
       "      <th>nom_3_China</th>\n",
       "      <th>nom_3_Costa Rica</th>\n",
       "      <th>nom_3_Finland</th>\n",
       "      <th>nom_3_India</th>\n",
       "      <th>nom_3_Russia</th>\n",
       "      <th>nom_4_Oboe</th>\n",
       "      <th>nom_4_Piano</th>\n",
       "      <th>nom_4_Theremin</th>\n",
       "    </tr>\n",
       "    <tr>\n",
       "      <th>id</th>\n",
       "      <th></th>\n",
       "      <th></th>\n",
       "      <th></th>\n",
       "      <th></th>\n",
       "      <th></th>\n",
       "      <th></th>\n",
       "      <th></th>\n",
       "      <th></th>\n",
       "      <th></th>\n",
       "      <th></th>\n",
       "      <th></th>\n",
       "      <th></th>\n",
       "      <th></th>\n",
       "      <th></th>\n",
       "      <th></th>\n",
       "      <th></th>\n",
       "      <th></th>\n",
       "      <th></th>\n",
       "      <th></th>\n",
       "      <th></th>\n",
       "      <th></th>\n",
       "    </tr>\n",
       "  </thead>\n",
       "  <tbody>\n",
       "    <tr>\n",
       "      <td>0</td>\n",
       "      <td>0</td>\n",
       "      <td>0</td>\n",
       "      <td>0</td>\n",
       "      <td>1</td>\n",
       "      <td>1</td>\n",
       "      <td>0.358134</td>\n",
       "      <td>0.312718</td>\n",
       "      <td>0.232365</td>\n",
       "      <td>0.372694</td>\n",
       "      <td>0.368421</td>\n",
       "      <td>...</td>\n",
       "      <td>0</td>\n",
       "      <td>1</td>\n",
       "      <td>0</td>\n",
       "      <td>0</td>\n",
       "      <td>1</td>\n",
       "      <td>0</td>\n",
       "      <td>0</td>\n",
       "      <td>0</td>\n",
       "      <td>0</td>\n",
       "      <td>0</td>\n",
       "    </tr>\n",
       "    <tr>\n",
       "      <td>1</td>\n",
       "      <td>0</td>\n",
       "      <td>1</td>\n",
       "      <td>0</td>\n",
       "      <td>1</td>\n",
       "      <td>1</td>\n",
       "      <td>0.388889</td>\n",
       "      <td>0.263658</td>\n",
       "      <td>0.310105</td>\n",
       "      <td>0.189189</td>\n",
       "      <td>0.076924</td>\n",
       "      <td>...</td>\n",
       "      <td>0</td>\n",
       "      <td>0</td>\n",
       "      <td>0</td>\n",
       "      <td>0</td>\n",
       "      <td>0</td>\n",
       "      <td>0</td>\n",
       "      <td>1</td>\n",
       "      <td>0</td>\n",
       "      <td>1</td>\n",
       "      <td>0</td>\n",
       "    </tr>\n",
       "    <tr>\n",
       "      <td>2</td>\n",
       "      <td>0</td>\n",
       "      <td>0</td>\n",
       "      <td>0</td>\n",
       "      <td>0</td>\n",
       "      <td>1</td>\n",
       "      <td>0.274564</td>\n",
       "      <td>0.296835</td>\n",
       "      <td>0.206316</td>\n",
       "      <td>0.223022</td>\n",
       "      <td>0.172414</td>\n",
       "      <td>...</td>\n",
       "      <td>1</td>\n",
       "      <td>0</td>\n",
       "      <td>0</td>\n",
       "      <td>0</td>\n",
       "      <td>0</td>\n",
       "      <td>0</td>\n",
       "      <td>1</td>\n",
       "      <td>0</td>\n",
       "      <td>0</td>\n",
       "      <td>1</td>\n",
       "    </tr>\n",
       "    <tr>\n",
       "      <td>3</td>\n",
       "      <td>0</td>\n",
       "      <td>1</td>\n",
       "      <td>0</td>\n",
       "      <td>0</td>\n",
       "      <td>1</td>\n",
       "      <td>0.234872</td>\n",
       "      <td>0.364255</td>\n",
       "      <td>0.350679</td>\n",
       "      <td>0.325123</td>\n",
       "      <td>0.227273</td>\n",
       "      <td>...</td>\n",
       "      <td>0</td>\n",
       "      <td>1</td>\n",
       "      <td>0</td>\n",
       "      <td>0</td>\n",
       "      <td>0</td>\n",
       "      <td>0</td>\n",
       "      <td>0</td>\n",
       "      <td>1</td>\n",
       "      <td>0</td>\n",
       "      <td>0</td>\n",
       "    </tr>\n",
       "    <tr>\n",
       "      <td>4</td>\n",
       "      <td>0</td>\n",
       "      <td>0</td>\n",
       "      <td>0</td>\n",
       "      <td>0</td>\n",
       "      <td>0</td>\n",
       "      <td>0.312438</td>\n",
       "      <td>0.305964</td>\n",
       "      <td>0.272936</td>\n",
       "      <td>0.376812</td>\n",
       "      <td>0.200000</td>\n",
       "      <td>...</td>\n",
       "      <td>1</td>\n",
       "      <td>0</td>\n",
       "      <td>0</td>\n",
       "      <td>0</td>\n",
       "      <td>0</td>\n",
       "      <td>0</td>\n",
       "      <td>0</td>\n",
       "      <td>1</td>\n",
       "      <td>0</td>\n",
       "      <td>0</td>\n",
       "    </tr>\n",
       "  </tbody>\n",
       "</table>\n",
       "<p>5 rows × 39 columns</p>\n",
       "</div>"
      ],
      "text/plain": [
       "    bin_0  bin_1  bin_2  bin_3  bin_4     nom_5     nom_6     nom_7     nom_8  \\\n",
       "id                                                                              \n",
       "0       0      0      0      1      1  0.358134  0.312718  0.232365  0.372694   \n",
       "1       0      1      0      1      1  0.388889  0.263658  0.310105  0.189189   \n",
       "2       0      0      0      0      1  0.274564  0.296835  0.206316  0.223022   \n",
       "3       0      1      0      0      1  0.234872  0.364255  0.350679  0.325123   \n",
       "4       0      0      0      0      0  0.312438  0.305964  0.272936  0.376812   \n",
       "\n",
       "       nom_9  ...  nom_2_Lion nom_2_Snake nom_3_China nom_3_Costa Rica  \\\n",
       "id            ...                                                        \n",
       "0   0.368421  ...           0           1           0                0   \n",
       "1   0.076924  ...           0           0           0                0   \n",
       "2   0.172414  ...           1           0           0                0   \n",
       "3   0.227273  ...           0           1           0                0   \n",
       "4   0.200000  ...           1           0           0                0   \n",
       "\n",
       "   nom_3_Finland nom_3_India  nom_3_Russia  nom_4_Oboe  nom_4_Piano  \\\n",
       "id                                                                    \n",
       "0              1           0             0           0            0   \n",
       "1              0           0             1           0            1   \n",
       "2              0           0             1           0            0   \n",
       "3              0           0             0           1            0   \n",
       "4              0           0             0           1            0   \n",
       "\n",
       "    nom_4_Theremin  \n",
       "id                  \n",
       "0                0  \n",
       "1                0  \n",
       "2                1  \n",
       "3                0  \n",
       "4                0  \n",
       "\n",
       "[5 rows x 39 columns]"
      ]
     },
     "execution_count": 65,
     "metadata": {},
     "output_type": "execute_result"
    }
   ],
   "source": [
    "ce_target_encoder = TargetEncoder(cols = ['nom_5', 'nom_6', 'nom_7', 'nom_8', 'nom_9'])\n",
    "\n",
    "ce_target_encoder.fit(X, y)\n",
    "\n",
    "ce_target_encoder.transform(X).head()"
   ]
  },
  {
   "cell_type": "code",
   "execution_count": 66,
   "metadata": {},
   "outputs": [
    {
     "data": {
      "text/html": [
       "<div>\n",
       "<style scoped>\n",
       "    .dataframe tbody tr th:only-of-type {\n",
       "        vertical-align: middle;\n",
       "    }\n",
       "\n",
       "    .dataframe tbody tr th {\n",
       "        vertical-align: top;\n",
       "    }\n",
       "\n",
       "    .dataframe thead th {\n",
       "        text-align: right;\n",
       "    }\n",
       "</style>\n",
       "<table border=\"1\" class=\"dataframe\">\n",
       "  <thead>\n",
       "    <tr style=\"text-align: right;\">\n",
       "      <th></th>\n",
       "      <th>nom_5</th>\n",
       "      <th>nom_6</th>\n",
       "      <th>nom_7</th>\n",
       "      <th>nom_8</th>\n",
       "      <th>nom_9</th>\n",
       "      <th>nom_1_sides</th>\n",
       "      <th>nom_0_Green</th>\n",
       "      <th>nom_0_Red</th>\n",
       "      <th>nom_1_Polygon</th>\n",
       "      <th>nom_1_Square</th>\n",
       "      <th>...</th>\n",
       "      <th>nom_2_Lion</th>\n",
       "      <th>nom_2_Snake</th>\n",
       "      <th>nom_3_China</th>\n",
       "      <th>nom_3_Costa Rica</th>\n",
       "      <th>nom_3_Finland</th>\n",
       "      <th>nom_3_India</th>\n",
       "      <th>nom_3_Russia</th>\n",
       "      <th>nom_4_Oboe</th>\n",
       "      <th>nom_4_Piano</th>\n",
       "      <th>nom_4_Theremin</th>\n",
       "    </tr>\n",
       "    <tr>\n",
       "      <th>id</th>\n",
       "      <th></th>\n",
       "      <th></th>\n",
       "      <th></th>\n",
       "      <th></th>\n",
       "      <th></th>\n",
       "      <th></th>\n",
       "      <th></th>\n",
       "      <th></th>\n",
       "      <th></th>\n",
       "      <th></th>\n",
       "      <th></th>\n",
       "      <th></th>\n",
       "      <th></th>\n",
       "      <th></th>\n",
       "      <th></th>\n",
       "      <th></th>\n",
       "      <th></th>\n",
       "      <th></th>\n",
       "      <th></th>\n",
       "      <th></th>\n",
       "      <th></th>\n",
       "    </tr>\n",
       "  </thead>\n",
       "  <tbody>\n",
       "    <tr>\n",
       "      <td>0</td>\n",
       "      <td>50f116bcf</td>\n",
       "      <td>3ac1b8814</td>\n",
       "      <td>68f6ad3e9</td>\n",
       "      <td>c389000ab</td>\n",
       "      <td>2f4cb3d51</td>\n",
       "      <td>3</td>\n",
       "      <td>1</td>\n",
       "      <td>0</td>\n",
       "      <td>0</td>\n",
       "      <td>0</td>\n",
       "      <td>...</td>\n",
       "      <td>0</td>\n",
       "      <td>1</td>\n",
       "      <td>0</td>\n",
       "      <td>0</td>\n",
       "      <td>1</td>\n",
       "      <td>0</td>\n",
       "      <td>0</td>\n",
       "      <td>0</td>\n",
       "      <td>0</td>\n",
       "      <td>0</td>\n",
       "    </tr>\n",
       "    <tr>\n",
       "      <td>1</td>\n",
       "      <td>b3b4d25d0</td>\n",
       "      <td>fbcb50fc1</td>\n",
       "      <td>3b6dd5612</td>\n",
       "      <td>4cd920251</td>\n",
       "      <td>f83c56c21</td>\n",
       "      <td>4</td>\n",
       "      <td>1</td>\n",
       "      <td>0</td>\n",
       "      <td>0</td>\n",
       "      <td>0</td>\n",
       "      <td>...</td>\n",
       "      <td>0</td>\n",
       "      <td>0</td>\n",
       "      <td>0</td>\n",
       "      <td>0</td>\n",
       "      <td>0</td>\n",
       "      <td>0</td>\n",
       "      <td>1</td>\n",
       "      <td>0</td>\n",
       "      <td>1</td>\n",
       "      <td>0</td>\n",
       "    </tr>\n",
       "    <tr>\n",
       "      <td>2</td>\n",
       "      <td>3263bdce5</td>\n",
       "      <td>0922e3cb8</td>\n",
       "      <td>a6a36f527</td>\n",
       "      <td>de9c9f684</td>\n",
       "      <td>ae6800dd0</td>\n",
       "      <td>4</td>\n",
       "      <td>0</td>\n",
       "      <td>0</td>\n",
       "      <td>0</td>\n",
       "      <td>0</td>\n",
       "      <td>...</td>\n",
       "      <td>1</td>\n",
       "      <td>0</td>\n",
       "      <td>0</td>\n",
       "      <td>0</td>\n",
       "      <td>0</td>\n",
       "      <td>0</td>\n",
       "      <td>1</td>\n",
       "      <td>0</td>\n",
       "      <td>0</td>\n",
       "      <td>1</td>\n",
       "    </tr>\n",
       "    <tr>\n",
       "      <td>3</td>\n",
       "      <td>f12246592</td>\n",
       "      <td>50d7ad46a</td>\n",
       "      <td>ec69236eb</td>\n",
       "      <td>4ade6ab69</td>\n",
       "      <td>8270f0d71</td>\n",
       "      <td>4</td>\n",
       "      <td>0</td>\n",
       "      <td>1</td>\n",
       "      <td>0</td>\n",
       "      <td>0</td>\n",
       "      <td>...</td>\n",
       "      <td>0</td>\n",
       "      <td>1</td>\n",
       "      <td>0</td>\n",
       "      <td>0</td>\n",
       "      <td>0</td>\n",
       "      <td>0</td>\n",
       "      <td>0</td>\n",
       "      <td>1</td>\n",
       "      <td>0</td>\n",
       "      <td>0</td>\n",
       "    </tr>\n",
       "    <tr>\n",
       "      <td>4</td>\n",
       "      <td>5b0f5acd5</td>\n",
       "      <td>1fe17a1fd</td>\n",
       "      <td>04ddac2be</td>\n",
       "      <td>cb43ab175</td>\n",
       "      <td>b164b72a7</td>\n",
       "      <td>4</td>\n",
       "      <td>0</td>\n",
       "      <td>1</td>\n",
       "      <td>0</td>\n",
       "      <td>0</td>\n",
       "      <td>...</td>\n",
       "      <td>1</td>\n",
       "      <td>0</td>\n",
       "      <td>0</td>\n",
       "      <td>0</td>\n",
       "      <td>0</td>\n",
       "      <td>0</td>\n",
       "      <td>0</td>\n",
       "      <td>1</td>\n",
       "      <td>0</td>\n",
       "      <td>0</td>\n",
       "    </tr>\n",
       "  </tbody>\n",
       "</table>\n",
       "<p>5 rows × 26 columns</p>\n",
       "</div>"
      ],
      "text/plain": [
       "        nom_5      nom_6      nom_7      nom_8      nom_9  nom_1_sides  \\\n",
       "id                                                                       \n",
       "0   50f116bcf  3ac1b8814  68f6ad3e9  c389000ab  2f4cb3d51            3   \n",
       "1   b3b4d25d0  fbcb50fc1  3b6dd5612  4cd920251  f83c56c21            4   \n",
       "2   3263bdce5  0922e3cb8  a6a36f527  de9c9f684  ae6800dd0            4   \n",
       "3   f12246592  50d7ad46a  ec69236eb  4ade6ab69  8270f0d71            4   \n",
       "4   5b0f5acd5  1fe17a1fd  04ddac2be  cb43ab175  b164b72a7            4   \n",
       "\n",
       "    nom_0_Green  nom_0_Red  nom_1_Polygon  nom_1_Square  ...  nom_2_Lion  \\\n",
       "id                                                       ...               \n",
       "0             1          0              0             0  ...           0   \n",
       "1             1          0              0             0  ...           0   \n",
       "2             0          0              0             0  ...           1   \n",
       "3             0          1              0             0  ...           0   \n",
       "4             0          1              0             0  ...           1   \n",
       "\n",
       "    nom_2_Snake  nom_3_China  nom_3_Costa Rica  nom_3_Finland  nom_3_India  \\\n",
       "id                                                                           \n",
       "0             1            0                 0              1            0   \n",
       "1             0            0                 0              0            0   \n",
       "2             0            0                 0              0            0   \n",
       "3             1            0                 0              0            0   \n",
       "4             0            0                 0              0            0   \n",
       "\n",
       "    nom_3_Russia  nom_4_Oboe  nom_4_Piano  nom_4_Theremin  \n",
       "id                                                         \n",
       "0              0           0            0               0  \n",
       "1              1           0            1               0  \n",
       "2              1           0            0               1  \n",
       "3              0           1            0               0  \n",
       "4              0           1            0               0  \n",
       "\n",
       "[5 rows x 26 columns]"
      ]
     },
     "execution_count": 66,
     "metadata": {},
     "output_type": "execute_result"
    }
   ],
   "source": [
    "# Nominal features\n",
    "nom_features = pd.Series(X.columns).str.startswith('nom')\n",
    "\n",
    "# First five observations of the nominal features\n",
    "X[X.columns[nom_features]].head()"
   ]
  },
  {
   "cell_type": "markdown",
   "metadata": {},
   "source": [
    "## 1.3 Ordinal features"
   ]
  },
  {
   "cell_type": "code",
   "execution_count": 67,
   "metadata": {},
   "outputs": [
    {
     "data": {
      "text/html": [
       "<div>\n",
       "<style scoped>\n",
       "    .dataframe tbody tr th:only-of-type {\n",
       "        vertical-align: middle;\n",
       "    }\n",
       "\n",
       "    .dataframe tbody tr th {\n",
       "        vertical-align: top;\n",
       "    }\n",
       "\n",
       "    .dataframe thead th {\n",
       "        text-align: right;\n",
       "    }\n",
       "</style>\n",
       "<table border=\"1\" class=\"dataframe\">\n",
       "  <thead>\n",
       "    <tr style=\"text-align: right;\">\n",
       "      <th></th>\n",
       "      <th>ord_0</th>\n",
       "      <th>ord_1</th>\n",
       "      <th>ord_2</th>\n",
       "      <th>ord_3</th>\n",
       "      <th>ord_4</th>\n",
       "      <th>ord_5</th>\n",
       "    </tr>\n",
       "    <tr>\n",
       "      <th>id</th>\n",
       "      <th></th>\n",
       "      <th></th>\n",
       "      <th></th>\n",
       "      <th></th>\n",
       "      <th></th>\n",
       "      <th></th>\n",
       "    </tr>\n",
       "  </thead>\n",
       "  <tbody>\n",
       "    <tr>\n",
       "      <td>0</td>\n",
       "      <td>2</td>\n",
       "      <td>Grandmaster</td>\n",
       "      <td>Cold</td>\n",
       "      <td>h</td>\n",
       "      <td>D</td>\n",
       "      <td>kr</td>\n",
       "    </tr>\n",
       "    <tr>\n",
       "      <td>1</td>\n",
       "      <td>1</td>\n",
       "      <td>Grandmaster</td>\n",
       "      <td>Hot</td>\n",
       "      <td>a</td>\n",
       "      <td>A</td>\n",
       "      <td>bF</td>\n",
       "    </tr>\n",
       "    <tr>\n",
       "      <td>2</td>\n",
       "      <td>1</td>\n",
       "      <td>Expert</td>\n",
       "      <td>Lava Hot</td>\n",
       "      <td>h</td>\n",
       "      <td>R</td>\n",
       "      <td>Jc</td>\n",
       "    </tr>\n",
       "    <tr>\n",
       "      <td>3</td>\n",
       "      <td>1</td>\n",
       "      <td>Grandmaster</td>\n",
       "      <td>Boiling Hot</td>\n",
       "      <td>i</td>\n",
       "      <td>D</td>\n",
       "      <td>kW</td>\n",
       "    </tr>\n",
       "    <tr>\n",
       "      <td>4</td>\n",
       "      <td>1</td>\n",
       "      <td>Grandmaster</td>\n",
       "      <td>Freezing</td>\n",
       "      <td>a</td>\n",
       "      <td>R</td>\n",
       "      <td>qP</td>\n",
       "    </tr>\n",
       "  </tbody>\n",
       "</table>\n",
       "</div>"
      ],
      "text/plain": [
       "    ord_0        ord_1        ord_2 ord_3 ord_4 ord_5\n",
       "id                                                   \n",
       "0       2  Grandmaster         Cold     h     D    kr\n",
       "1       1  Grandmaster          Hot     a     A    bF\n",
       "2       1       Expert     Lava Hot     h     R    Jc\n",
       "3       1  Grandmaster  Boiling Hot     i     D    kW\n",
       "4       1  Grandmaster     Freezing     a     R    qP"
      ]
     },
     "execution_count": 67,
     "metadata": {},
     "output_type": "execute_result"
    }
   ],
   "source": [
    "# Ordinal features\n",
    "ord_features = pd.Series(X.columns).str.startswith('ord')\n",
    "\n",
    "# First five observations of the ordinal features\n",
    "X[X.columns[ord_features]].head()"
   ]
  },
  {
   "cell_type": "code",
   "execution_count": 68,
   "metadata": {},
   "outputs": [],
   "source": [
    "# dictionary to map the feature ord_1\n",
    "ord_1_dict = {'Novice':0, 'Contributor':1, 'Expert':2, 'Master':3, 'Grandmaster':4}\n",
    "\n",
    "# Maping the category values in our dict\n",
    "X['ord_1'] = X['ord_1'].map(ord_1_dict)\n",
    "X_test['ord_1'] = X_test['ord_1'].map(ord_1_dict)"
   ]
  },
  {
   "cell_type": "code",
   "execution_count": 69,
   "metadata": {},
   "outputs": [],
   "source": [
    "# dictionary to map the feature ord_2\n",
    "ord_2_dict = {'Freezing':0, 'Cold':1, 'Warm':2, 'Hot':3, 'Boiling Hot':4, 'Lava Hot':5}\n",
    "\n",
    "# Maping the category values in our dict\n",
    "X['ord_2'] = X['ord_2'].map(ord_2_dict)\n",
    "X_test['ord_2'] = X_test['ord_2'].map(ord_2_dict)"
   ]
  },
  {
   "cell_type": "code",
   "execution_count": 70,
   "metadata": {},
   "outputs": [],
   "source": [
    "# Converting ord_3 and ord_4 values to their code ascii\n",
    "X['ord_3'] = X['ord_3'].apply(lambda x : string.ascii_letters.find(x)+1)\n",
    "X['ord_4'] = X['ord_4'].apply(lambda x : string.ascii_letters.find(x)+1)\n",
    "\n",
    "X_test['ord_3'] = X_test['ord_3'].apply(lambda x : string.ascii_letters.find(x)+1)\n",
    "X_test['ord_4'] = X_test['ord_4'].apply(lambda x : string.ascii_letters.find(x)+1)"
   ]
  },
  {
   "cell_type": "code",
   "execution_count": 71,
   "metadata": {},
   "outputs": [],
   "source": [
    "# Adding the sum of the code ascii of the two letters making up ord_5\n",
    "X['ord_5_ascii'] = X['ord_5'].apply(lambda x : sum([(string.ascii_letters.find(letter)+1) for letter in x]))\n",
    "X_test['ord_5_ascii'] = X_test['ord_5'].apply(lambda x : sum([(string.ascii_letters.find(letter)+1) for letter in x]))\n",
    "\n",
    "# Splitting ord_5 into the alphabet rank of each of the letters making up ord_5\n",
    "X['ord_5_0_ascii'] = X['ord_5'].apply(lambda x : string.ascii_letters.find(x[0])+1)\n",
    "X['ord_5_1_ascii'] = X['ord_5'].apply(lambda x : string.ascii_letters.find(x[1])+1)\n",
    "\n",
    "X_test['ord_5_0_ascii'] = X_test['ord_5'].apply(lambda x : string.ascii_letters.find(x[0])+1)\n",
    "X_test['ord_5_1_ascii'] = X_test['ord_5'].apply(lambda x : string.ascii_letters.find(x[1])+1)\n",
    "\n",
    "# Adding alphabetical order of ord_5\n",
    "ord_5 = sorted(list(set(X['ord_5'].values)))\n",
    "ord_5 = dict(zip(ord_5, range(len(ord_5))))\n",
    "X.loc[:, 'ord_5'] = X['ord_5'].apply(lambda x: ord_5[x]).astype(int)\n",
    "X_test.loc[:, 'ord_5'] = X_test['ord_5'].apply(lambda x: ord_5[x]).astype(int)"
   ]
  },
  {
   "cell_type": "code",
   "execution_count": 72,
   "metadata": {},
   "outputs": [
    {
     "data": {
      "text/html": [
       "<div>\n",
       "<style scoped>\n",
       "    .dataframe tbody tr th:only-of-type {\n",
       "        vertical-align: middle;\n",
       "    }\n",
       "\n",
       "    .dataframe tbody tr th {\n",
       "        vertical-align: top;\n",
       "    }\n",
       "\n",
       "    .dataframe thead th {\n",
       "        text-align: right;\n",
       "    }\n",
       "</style>\n",
       "<table border=\"1\" class=\"dataframe\">\n",
       "  <thead>\n",
       "    <tr style=\"text-align: right;\">\n",
       "      <th></th>\n",
       "      <th>ord_0</th>\n",
       "      <th>ord_1</th>\n",
       "      <th>ord_2</th>\n",
       "      <th>ord_3</th>\n",
       "      <th>ord_4</th>\n",
       "      <th>ord_5</th>\n",
       "      <th>ord_5_ascii</th>\n",
       "      <th>ord_5_0_ascii</th>\n",
       "      <th>ord_5_1_ascii</th>\n",
       "    </tr>\n",
       "    <tr>\n",
       "      <th>id</th>\n",
       "      <th></th>\n",
       "      <th></th>\n",
       "      <th></th>\n",
       "      <th></th>\n",
       "      <th></th>\n",
       "      <th></th>\n",
       "      <th></th>\n",
       "      <th></th>\n",
       "      <th></th>\n",
       "    </tr>\n",
       "  </thead>\n",
       "  <tbody>\n",
       "    <tr>\n",
       "      <td>0</td>\n",
       "      <td>2</td>\n",
       "      <td>4</td>\n",
       "      <td>1</td>\n",
       "      <td>8</td>\n",
       "      <td>30</td>\n",
       "      <td>136</td>\n",
       "      <td>29</td>\n",
       "      <td>11</td>\n",
       "      <td>18</td>\n",
       "    </tr>\n",
       "    <tr>\n",
       "      <td>1</td>\n",
       "      <td>1</td>\n",
       "      <td>4</td>\n",
       "      <td>3</td>\n",
       "      <td>1</td>\n",
       "      <td>27</td>\n",
       "      <td>93</td>\n",
       "      <td>34</td>\n",
       "      <td>2</td>\n",
       "      <td>32</td>\n",
       "    </tr>\n",
       "    <tr>\n",
       "      <td>2</td>\n",
       "      <td>1</td>\n",
       "      <td>2</td>\n",
       "      <td>5</td>\n",
       "      <td>8</td>\n",
       "      <td>44</td>\n",
       "      <td>31</td>\n",
       "      <td>39</td>\n",
       "      <td>36</td>\n",
       "      <td>3</td>\n",
       "    </tr>\n",
       "    <tr>\n",
       "      <td>3</td>\n",
       "      <td>1</td>\n",
       "      <td>4</td>\n",
       "      <td>4</td>\n",
       "      <td>9</td>\n",
       "      <td>30</td>\n",
       "      <td>134</td>\n",
       "      <td>60</td>\n",
       "      <td>11</td>\n",
       "      <td>49</td>\n",
       "    </tr>\n",
       "    <tr>\n",
       "      <td>4</td>\n",
       "      <td>1</td>\n",
       "      <td>4</td>\n",
       "      <td>0</td>\n",
       "      <td>1</td>\n",
       "      <td>44</td>\n",
       "      <td>158</td>\n",
       "      <td>59</td>\n",
       "      <td>17</td>\n",
       "      <td>42</td>\n",
       "    </tr>\n",
       "  </tbody>\n",
       "</table>\n",
       "</div>"
      ],
      "text/plain": [
       "    ord_0  ord_1  ord_2  ord_3  ord_4  ord_5  ord_5_ascii  ord_5_0_ascii  \\\n",
       "id                                                                         \n",
       "0       2      4      1      8     30    136           29             11   \n",
       "1       1      4      3      1     27     93           34              2   \n",
       "2       1      2      5      8     44     31           39             36   \n",
       "3       1      4      4      9     30    134           60             11   \n",
       "4       1      4      0      1     44    158           59             17   \n",
       "\n",
       "    ord_5_1_ascii  \n",
       "id                 \n",
       "0              18  \n",
       "1              32  \n",
       "2               3  \n",
       "3              49  \n",
       "4              42  "
      ]
     },
     "execution_count": 72,
     "metadata": {},
     "output_type": "execute_result"
    }
   ],
   "source": [
    "# Ordinal features\n",
    "ord_features = pd.Series(X.columns).str.startswith('ord')\n",
    "\n",
    "# First five observations of the ordinal features\n",
    "X[X.columns[ord_features]].head()"
   ]
  },
  {
   "cell_type": "markdown",
   "metadata": {},
   "source": [
    "## 1.4 Cyclical features\n"
   ]
  },
  {
   "cell_type": "code",
   "execution_count": 73,
   "metadata": {},
   "outputs": [
    {
     "data": {
      "text/html": [
       "<div>\n",
       "<style scoped>\n",
       "    .dataframe tbody tr th:only-of-type {\n",
       "        vertical-align: middle;\n",
       "    }\n",
       "\n",
       "    .dataframe tbody tr th {\n",
       "        vertical-align: top;\n",
       "    }\n",
       "\n",
       "    .dataframe thead th {\n",
       "        text-align: right;\n",
       "    }\n",
       "</style>\n",
       "<table border=\"1\" class=\"dataframe\">\n",
       "  <thead>\n",
       "    <tr style=\"text-align: right;\">\n",
       "      <th></th>\n",
       "      <th>day</th>\n",
       "      <th>month</th>\n",
       "    </tr>\n",
       "    <tr>\n",
       "      <th>id</th>\n",
       "      <th></th>\n",
       "      <th></th>\n",
       "    </tr>\n",
       "  </thead>\n",
       "  <tbody>\n",
       "    <tr>\n",
       "      <td>0</td>\n",
       "      <td>2</td>\n",
       "      <td>2</td>\n",
       "    </tr>\n",
       "    <tr>\n",
       "      <td>1</td>\n",
       "      <td>7</td>\n",
       "      <td>8</td>\n",
       "    </tr>\n",
       "    <tr>\n",
       "      <td>2</td>\n",
       "      <td>7</td>\n",
       "      <td>2</td>\n",
       "    </tr>\n",
       "    <tr>\n",
       "      <td>3</td>\n",
       "      <td>2</td>\n",
       "      <td>1</td>\n",
       "    </tr>\n",
       "    <tr>\n",
       "      <td>4</td>\n",
       "      <td>7</td>\n",
       "      <td>8</td>\n",
       "    </tr>\n",
       "  </tbody>\n",
       "</table>\n",
       "</div>"
      ],
      "text/plain": [
       "    day  month\n",
       "id            \n",
       "0     2      2\n",
       "1     7      8\n",
       "2     7      2\n",
       "3     2      1\n",
       "4     7      8"
      ]
     },
     "execution_count": 73,
     "metadata": {},
     "output_type": "execute_result"
    }
   ],
   "source": [
    "# Cyclical features\n",
    "cyc_features = ['day', 'month']\n",
    "\n",
    "# First five observations of the cyclical features\n",
    "X[cyc_features].head()"
   ]
  },
  {
   "cell_type": "code",
   "execution_count": 74,
   "metadata": {},
   "outputs": [],
   "source": [
    "# Adding cos and sin coordinates of the day and month values\n",
    "X['month_sin'] = np.sin((2*np.pi*X['month'])/12)\n",
    "X['month_cos'] = np.cos((2*np.pi*X['month'])/12)\n",
    "X['day_sin'] = np.sin((2*np.pi*X['month'])/7)\n",
    "X['day_cos'] = np.cos((2*np.pi*X['month'])/7)\n",
    "#X.drop(cyc_features, axis=1, inplace=True)                    \n",
    "                       \n",
    "X_test['month_sin'] = np.sin((2*np.pi*X_test['month'])/12)\n",
    "X_test['month_cos'] = np.cos((2*np.pi*X_test['month'])/12)\n",
    "X_test['day_sin'] = np.sin((2*np.pi*X_test['month'])/7)\n",
    "X_test['day_cos'] = np.cos((2*np.pi*X_test['month'])/7)\n",
    "#X_test.drop(cyc_features, axis=1, inplace=True) "
   ]
  },
  {
   "cell_type": "code",
   "execution_count": 75,
   "metadata": {},
   "outputs": [
    {
     "data": {
      "text/html": [
       "<div>\n",
       "<style scoped>\n",
       "    .dataframe tbody tr th:only-of-type {\n",
       "        vertical-align: middle;\n",
       "    }\n",
       "\n",
       "    .dataframe tbody tr th {\n",
       "        vertical-align: top;\n",
       "    }\n",
       "\n",
       "    .dataframe thead th {\n",
       "        text-align: right;\n",
       "    }\n",
       "</style>\n",
       "<table border=\"1\" class=\"dataframe\">\n",
       "  <thead>\n",
       "    <tr style=\"text-align: right;\">\n",
       "      <th></th>\n",
       "      <th>day</th>\n",
       "      <th>day_sin</th>\n",
       "      <th>day_cos</th>\n",
       "      <th>month</th>\n",
       "      <th>month_sin</th>\n",
       "      <th>month_cos</th>\n",
       "    </tr>\n",
       "    <tr>\n",
       "      <th>id</th>\n",
       "      <th></th>\n",
       "      <th></th>\n",
       "      <th></th>\n",
       "      <th></th>\n",
       "      <th></th>\n",
       "      <th></th>\n",
       "    </tr>\n",
       "  </thead>\n",
       "  <tbody>\n",
       "    <tr>\n",
       "      <td>0</td>\n",
       "      <td>2</td>\n",
       "      <td>0.974928</td>\n",
       "      <td>-0.222521</td>\n",
       "      <td>2</td>\n",
       "      <td>0.866025</td>\n",
       "      <td>0.500000</td>\n",
       "    </tr>\n",
       "    <tr>\n",
       "      <td>1</td>\n",
       "      <td>7</td>\n",
       "      <td>0.781831</td>\n",
       "      <td>0.623490</td>\n",
       "      <td>8</td>\n",
       "      <td>-0.866025</td>\n",
       "      <td>-0.500000</td>\n",
       "    </tr>\n",
       "    <tr>\n",
       "      <td>2</td>\n",
       "      <td>7</td>\n",
       "      <td>0.974928</td>\n",
       "      <td>-0.222521</td>\n",
       "      <td>2</td>\n",
       "      <td>0.866025</td>\n",
       "      <td>0.500000</td>\n",
       "    </tr>\n",
       "    <tr>\n",
       "      <td>3</td>\n",
       "      <td>2</td>\n",
       "      <td>0.781831</td>\n",
       "      <td>0.623490</td>\n",
       "      <td>1</td>\n",
       "      <td>0.500000</td>\n",
       "      <td>0.866025</td>\n",
       "    </tr>\n",
       "    <tr>\n",
       "      <td>4</td>\n",
       "      <td>7</td>\n",
       "      <td>0.781831</td>\n",
       "      <td>0.623490</td>\n",
       "      <td>8</td>\n",
       "      <td>-0.866025</td>\n",
       "      <td>-0.500000</td>\n",
       "    </tr>\n",
       "  </tbody>\n",
       "</table>\n",
       "</div>"
      ],
      "text/plain": [
       "    day   day_sin   day_cos  month  month_sin  month_cos\n",
       "id                                                      \n",
       "0     2  0.974928 -0.222521      2   0.866025   0.500000\n",
       "1     7  0.781831  0.623490      8  -0.866025  -0.500000\n",
       "2     7  0.974928 -0.222521      2   0.866025   0.500000\n",
       "3     2  0.781831  0.623490      1   0.500000   0.866025\n",
       "4     7  0.781831  0.623490      8  -0.866025  -0.500000"
      ]
     },
     "execution_count": 75,
     "metadata": {},
     "output_type": "execute_result"
    }
   ],
   "source": [
    "# Cyclical features\n",
    "cyc_features = ['day', 'day_sin', 'day_cos', 'month', 'month_sin', 'month_cos']\n",
    "\n",
    "# First five observations of the cyclical features\n",
    "X[cyc_features].head()"
   ]
  },
  {
   "cell_type": "markdown",
   "metadata": {},
   "source": [
    "# 2.Modeling"
   ]
  },
  {
   "cell_type": "code",
   "execution_count": 76,
   "metadata": {},
   "outputs": [
    {
     "name": "stdout",
     "output_type": "stream",
     "text": [
      "X has 46 columns.\n",
      "X_test has 46 columns.\n"
     ]
    }
   ],
   "source": [
    "print(\"X has\",X.shape[1], \"columns.\")\n",
    "print(\"X_test has\",X_test.shape[1], \"columns.\")"
   ]
  },
  {
   "cell_type": "code",
   "execution_count": 77,
   "metadata": {},
   "outputs": [],
   "source": [
    "# Splitting the training data into training and validation data \n",
    "X_train, X_valid, y_train, y_valid = train_test_split(X, y, test_size=0.2, random_state=0)"
   ]
  },
  {
   "cell_type": "markdown",
   "metadata": {},
   "source": [
    "## 2.1.Logistic Regression"
   ]
  },
  {
   "cell_type": "code",
   "execution_count": 78,
   "metadata": {},
   "outputs": [],
   "source": [
    "# # Choose the type of classifier. \n",
    "# lr_model = Pipeline([(\"Target_Encoder\", TargetEncoder(cols = ['nom_5', 'nom_6', 'nom_7', 'nom_8', 'nom_9'])),\n",
    "#                      (\"Scaler\", StandardScaler()),\n",
    "#                      (\"LogReg\", LogisticRegression(solver=\"liblinear\"))])\n",
    "\n",
    "# # Choose some parameter combinations to try\n",
    "# lr_parameters = {'LogReg__C': [0.1, 0.25, 0.5, 1.0, 1.5],\n",
    "#                  'LogReg__max_iter':[50, 100, 200, 500, 1000],\n",
    "#                  'LogReg__tol':[0.00001, 0.0001, 0.0002, 0.0005, 0.001]}\n",
    "\n",
    "# # Run the grid search\n",
    "# lr_grid_obj = GridSearchCV(lr_model, lr_parameters, cv=5, scoring='roc_auc', n_jobs=3)\n",
    "# lr_grid_obj = lr_grid_obj.fit(X_train, y_train)\n",
    "\n",
    "# # Set the rf_model to the best combination of parameters\n",
    "# lr_model = lr_grid_obj.best_estimator_\n",
    "\n",
    "# # Show parameters\n",
    "# lr_model"
   ]
  },
  {
   "cell_type": "code",
   "execution_count": 79,
   "metadata": {},
   "outputs": [],
   "source": [
    "# Choose the type of classifier. \n",
    "lr_model = Pipeline([(\"Target_Encoder\", TargetEncoder(cols = ['nom_5', 'nom_6', 'nom_7', 'nom_8', 'nom_9'])),\n",
    "                     (\"Scaler\", StandardScaler()),\n",
    "                     (\"LogReg\", LogisticRegression(C=1.5, max_iter=50, solver=\"liblinear\", tol=0.001))])\n",
    "\n",
    "# 5-Fold Cross Validation\n",
    "lr_cv_results = cross_val_score(lr_model,\n",
    "                                X_train, y_train,\n",
    "                                cv=KFold(n_splits=5, shuffle=False, random_state=42), \n",
    "                                scoring='roc_auc',\n",
    "                                n_jobs=3)"
   ]
  },
  {
   "cell_type": "code",
   "execution_count": 80,
   "metadata": {},
   "outputs": [
    {
     "name": "stdout",
     "output_type": "stream",
     "text": [
      "LR CV AUC mean:  0.7767579103315474\n",
      "LR CV AUC std:   0.0016620086520674274\n"
     ]
    }
   ],
   "source": [
    "# CV results\n",
    "print(\"LR CV AUC mean: \", lr_cv_results.mean())\n",
    "print(\"LR CV AUC std:  \", lr_cv_results.std())"
   ]
  },
  {
   "cell_type": "code",
   "execution_count": 27,
   "metadata": {},
   "outputs": [],
   "source": [
    "#0.7767579103315474"
   ]
  },
  {
   "cell_type": "code",
   "execution_count": 81,
   "metadata": {},
   "outputs": [
    {
     "name": "stdout",
     "output_type": "stream",
     "text": [
      "LR Validation AUC:  0.7825783392156936\n"
     ]
    }
   ],
   "source": [
    "# Validation\n",
    "lr_model.fit(X_train, y_train)\n",
    "lr_predictions = lr_model.predict_proba(X_valid)[:,1]\n",
    "print(\"LR Validation AUC: \", roc_auc_score(y_valid, lr_predictions))"
   ]
  },
  {
   "cell_type": "markdown",
   "metadata": {},
   "source": [
    "## 2.2.Random Forest "
   ]
  },
  {
   "cell_type": "code",
   "execution_count": 82,
   "metadata": {},
   "outputs": [],
   "source": [
    "# Choose the type of classifier. \n",
    "rf_model = Pipeline([(\"Target_Encoder\", TargetEncoder(cols = ['nom_5', 'nom_6', 'nom_7', 'nom_8', 'nom_9'])),\n",
    "                     (\"rf\", RandomForestClassifier(n_estimators=100))])\n",
    "\n",
    "\n",
    "\n",
    "# 5-Fold Cross Validation\n",
    "rf_cv_results = cross_val_score(rf_model,\n",
    "                                X_train, y_train,\n",
    "                                cv=KFold(n_splits=5, shuffle=False, random_state=42), \n",
    "                                scoring='roc_auc',\n",
    "                                n_jobs=3)"
   ]
  },
  {
   "cell_type": "code",
   "execution_count": 84,
   "metadata": {},
   "outputs": [
    {
     "name": "stdout",
     "output_type": "stream",
     "text": [
      "RF CV AUC mean:  0.7442606744361219\n",
      "RF CV AUC std:   0.0012855158011247792\n"
     ]
    }
   ],
   "source": [
    "# CV results\n",
    "print(\"RF CV AUC mean: \", rf_cv_results.mean())\n",
    "print(\"RF CV AUC std:  \", rf_cv_results.std())"
   ]
  },
  {
   "cell_type": "code",
   "execution_count": 31,
   "metadata": {},
   "outputs": [],
   "source": [
    "#0.7442606744361219"
   ]
  },
  {
   "cell_type": "code",
   "execution_count": 85,
   "metadata": {},
   "outputs": [
    {
     "name": "stdout",
     "output_type": "stream",
     "text": [
      "RF Validation AUC:  0.7498459438790318\n"
     ]
    }
   ],
   "source": [
    "# Validation\n",
    "rf_model.fit(X_train, y_train)\n",
    "rf_predictions = rf_model.predict_proba(X_valid)[:,1]\n",
    "print(\"RF Validation AUC: \", roc_auc_score(y_valid, rf_predictions))"
   ]
  },
  {
   "cell_type": "markdown",
   "metadata": {},
   "source": [
    "## 2.3.Gradient Boosting"
   ]
  },
  {
   "cell_type": "code",
   "execution_count": 86,
   "metadata": {},
   "outputs": [],
   "source": [
    "# Choose the type of classifier.\n",
    "gb_model = Pipeline([(\"Target_Encoder\", TargetEncoder(cols = ['nom_5', 'nom_6', 'nom_7', 'nom_8', 'nom_9'])),\n",
    "                     (\"gb\", GradientBoostingClassifier(n_estimators=100))])\n",
    "\n",
    "# 5-Fold Cross Validation\n",
    "gb_cv_results = cross_val_score(gb_model,\n",
    "                                X_train, y_train,\n",
    "                                cv=KFold(n_splits=5, shuffle=False, random_state=42), \n",
    "                                scoring='roc_auc',\n",
    "                                n_jobs=3)"
   ]
  },
  {
   "cell_type": "code",
   "execution_count": 87,
   "metadata": {},
   "outputs": [
    {
     "name": "stdout",
     "output_type": "stream",
     "text": [
      "GB CV AUC mean:  0.750820545030749\n",
      "GB CV AUC std:   0.002015165108214244\n"
     ]
    }
   ],
   "source": [
    "# CV results\n",
    "print(\"GB CV AUC mean: \", gb_cv_results.mean())\n",
    "print(\"GB CV AUC std:  \", gb_cv_results.std())"
   ]
  },
  {
   "cell_type": "code",
   "execution_count": 35,
   "metadata": {},
   "outputs": [],
   "source": [
    "#0.750820545030749"
   ]
  },
  {
   "cell_type": "code",
   "execution_count": 88,
   "metadata": {},
   "outputs": [
    {
     "name": "stdout",
     "output_type": "stream",
     "text": [
      "GB Validation AUC:  0.7598435039881575\n"
     ]
    }
   ],
   "source": [
    "# Validation\n",
    "gb_model.fit(X_train, y_train)\n",
    "gb_predictions = gb_model.predict_proba(X_valid)[:,1]\n",
    "print(\"GB Validation AUC: \", roc_auc_score(y_valid, gb_predictions))"
   ]
  },
  {
   "cell_type": "markdown",
   "metadata": {},
   "source": [
    "## 2.4.Combining models"
   ]
  },
  {
   "cell_type": "code",
   "execution_count": 89,
   "metadata": {},
   "outputs": [
    {
     "name": "stdout",
     "output_type": "stream",
     "text": [
      "Stacked Validation AUC:  0.7728354658627712\n"
     ]
    }
   ],
   "source": [
    "mean_predictions = np.mean(np.array([lr_predictions, rf_predictions, gb_predictions]), axis=0)\n",
    "print(\"Stacked Validation AUC: \", roc_auc_score(y_valid, mean_predictions))                                    "
   ]
  },
  {
   "cell_type": "code",
   "execution_count": 38,
   "metadata": {},
   "outputs": [],
   "source": [
    "#0.7728354658627712"
   ]
  },
  {
   "cell_type": "code",
   "execution_count": 39,
   "metadata": {},
   "outputs": [
    {
     "data": {
      "text/plain": [
       "Index(['bin_0', 'bin_1', 'bin_2', 'bin_3', 'bin_4', 'ord_0', 'ord_1', 'ord_2',\n",
       "       'ord_3', 'ord_4', 'day', 'month', 'nom_1_sides', 'nom_0_Green',\n",
       "       'nom_0_Red', 'nom_1_Polygon', 'nom_1_Square', 'nom_1_Star',\n",
       "       'nom_1_Trapezoid', 'nom_1_Triangle', 'nom_2_Cat', 'nom_2_Dog',\n",
       "       'nom_2_Hamster', 'nom_2_Lion', 'nom_2_Snake', 'nom_3_China',\n",
       "       'nom_3_Costa Rica', 'nom_3_Finland', 'nom_3_India', 'nom_3_Russia',\n",
       "       'nom_4_Oboe', 'nom_4_Piano', 'nom_4_Theremin', 'ord_5_ascii',\n",
       "       'ord_5_0_ascii', 'ord_5_1_ascii', 'month_sin', 'month_cos', 'day_sin',\n",
       "       'day_cos'],\n",
       "      dtype='object')"
      ]
     },
     "execution_count": 39,
     "metadata": {},
     "output_type": "execute_result"
    }
   ],
   "source": [
    "X.columns"
   ]
  },
  {
   "cell_type": "markdown",
   "metadata": {},
   "source": [
    "# 3.Submission"
   ]
  },
  {
   "cell_type": "code",
   "execution_count": 90,
   "metadata": {},
   "outputs": [],
   "source": [
    "lr_model = Pipeline([(\"Target_Encoder\", TargetEncoder(cols = ['nom_5', 'nom_6', 'nom_7', 'nom_8', 'nom_9'])),\n",
    "                     (\"Scaler\", StandardScaler()),\n",
    "                     (\"LogReg\", LogisticRegression(C=1.5, max_iter=50, solver=\"liblinear\", tol=0.001))])\n",
    "lr_model.fit(X, y)\n",
    "lr_predictions = lr_model.predict_proba(X_test)[:,1]\n",
    "\n",
    "# rf_model = Pipeline([(\"Target_Encoder\", TargetEncoder(cols = ['nom_5', 'nom_6', 'nom_7', 'nom_8', 'nom_9'])),\n",
    "#                      (\"rf\", RandomForestClassifier(n_estimators=100))])\n",
    "# rf_model.fit(X, y)\n",
    "# rf_predictions = rf_model.predict_proba(X_test)[:,1]\n",
    "\n",
    "# gb_model = Pipeline([(\"Target_Encoder\", TargetEncoder(cols = ['nom_5', 'nom_6', 'nom_7', 'nom_8', 'nom_9'])),\n",
    "#                      (\"gb\", GradientBoostingClassifier(n_estimators=100))])\n",
    "# gb_model.fit(X, y)\n",
    "# gb_predictions = gb_model.predict_proba(X_test)[:,1]\n",
    "\n",
    "# mean_predictions = np.mean(np.array([lr_predictions, rf_predictions, gb_predictions]), axis=0)"
   ]
  },
  {
   "cell_type": "code",
   "execution_count": 91,
   "metadata": {},
   "outputs": [],
   "source": [
    "output = pd.DataFrame({'id': X_test.index,\n",
    "                       'target': lr_predictions})\n",
    "\n",
    "output.to_csv('submission.csv', index=False)"
   ]
  },
  {
   "cell_type": "code",
   "execution_count": 25,
   "metadata": {},
   "outputs": [],
   "source": []
  }
 ],
 "metadata": {
  "celltoolbar": "Format de la Cellule Texte Brut",
  "kernelspec": {
   "display_name": "Python 3",
   "language": "python",
   "name": "python3"
  },
  "language_info": {
   "codemirror_mode": {
    "name": "ipython",
    "version": 3
   },
   "file_extension": ".py",
   "mimetype": "text/x-python",
   "name": "python",
   "nbconvert_exporter": "python",
   "pygments_lexer": "ipython3",
   "version": "3.7.4"
  }
 },
 "nbformat": 4,
 "nbformat_minor": 2
}
